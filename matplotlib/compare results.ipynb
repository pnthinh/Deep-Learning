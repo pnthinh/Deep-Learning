{
 "cells": [
  {
   "cell_type": "code",
   "execution_count": 1,
   "metadata": {},
   "outputs": [],
   "source": [
    "import numpy as np\n",
    "import matplotlib\n",
    "import matplotlib.pyplot as plt\n",
    "import matplotlib.patches as mpatches"
   ]
  },
  {
   "cell_type": "code",
   "execution_count": 2,
   "metadata": {},
   "outputs": [
    {
     "data": {
      "image/png": "[encoded data removed]",
      "text/plain": [
       "<Figure size 360x720 with 2 Axes>"
      ]
     },
     "metadata": {
      "needs_background": "light"
     },
     "output_type": "display_data"
    }
   ],
   "source": [
    "mask = np.zeros((10, 10))\n",
    "mask[4:8, 1: 5] = 1\n",
    "fig, ax = plt.subplots(nrows=1, ncols=2, figsize=(5, 10))\n",
    "ax[0].imshow(mask, cmap='gray')\n",
    "ax[0].set_title('mask')\n",
    "ax[0].axis('off')\n",
    "\n",
    "pred = np.zeros((10, 10))\n",
    "pred[5:9, 2:6] = 2\n",
    "ax[1].imshow(pred, cmap='gray')\n",
    "ax[1].set_title('pred')\n",
    "ax[1].axis('off')\n",
    "plt.show()"
   ]
  },
  {
   "cell_type": "code",
   "execution_count": 3,
   "metadata": {},
   "outputs": [
    {
     "data": {
      "image/png": "[encoded data removed]",
      "text/plain": [
       "<Figure size 432x288 with 1 Axes>"
      ]
     },
     "metadata": {
      "needs_background": "light"
     },
     "output_type": "display_data"
    }
   ],
   "source": [
    "fig, ax = plt.subplots()\n",
    "overlay = mask + pred\n",
    "ax.imshow(overlay, cmap=matplotlib.colors.ListedColormap(['black', 'red', 'green', 'yellow']))\n",
    "patches = [\n",
    "            mpatches.Patch(color='red', label='mask'),\n",
    "            mpatches.Patch(color='green', label='pred'),\n",
    "            mpatches.Patch(color='yellow', label='overlap')\n",
    "]\n",
    "ax.legend(handles=patches, bbox_to_anchor=(1.02, 1.02), loc='upper left')\n",
    "ax.axis('off')\n",
    "plt.show()"
   ]
  },
  {
   "cell_type": "markdown",
   "metadata": {},
   "source": [
    "### Make it to function"
   ]
  },
  {
   "cell_type": "code",
   "execution_count": 14,
   "metadata": {},
   "outputs": [
    {
     "data": {
      "image/png": "[encoded data removed]",
      "text/plain": [
       "<Figure size 432x288 with 1 Axes>"
      ]
     },
     "metadata": {
      "needs_background": "light"
     },
     "output_type": "display_data"
    }
   ],
   "source": [
    "def overlap_label_pred(label, pred):\n",
    "    label[label > 0] = 1\n",
    "    pred[pred > 0] = 2\n",
    "    \n",
    "    fig, ax = plt.subplots()\n",
    "    overlay = label + pred\n",
    "    ax.imshow(overlay, cmap=matplotlib.colors.ListedColormap(['black', 'red', 'green', 'yellow']))\n",
    "    patches = [\n",
    "                mpatches.Patch(color='red', label='label'),\n",
    "                mpatches.Patch(color='green', label='predicted'),\n",
    "                mpatches.Patch(color='yellow', label='overlap')\n",
    "    ]\n",
    "    ax.legend(handles=patches, bbox_to_anchor=(1.02, 1.02), loc='upper left')\n",
    "    ax.axis('off')\n",
    "    plt.tight_layout() # makes subplots nicely fit in the figure\n",
    "    plt.show()\n",
    "overlap_label_pred(mask, pred)"
   ]
  },
  {
   "cell_type": "code",
   "execution_count": null,
   "metadata": {},
   "outputs": [],
   "source": []
  }
 ],
 "metadata": {
  "kernelspec": {
   "display_name": "Python 3",
   "language": "python",
   "name": "python3"
  },
  "language_info": {
   "codemirror_mode": {
    "name": "ipython",
    "version": 3
   },
   "file_extension": ".py",
   "mimetype": "text/x-python",
   "name": "python",
   "nbconvert_exporter": "python",
   "pygments_lexer": "ipython3",
   "version": "3.7.4"
  }
 },
 "nbformat": 4,
 "nbformat_minor": 2
}
